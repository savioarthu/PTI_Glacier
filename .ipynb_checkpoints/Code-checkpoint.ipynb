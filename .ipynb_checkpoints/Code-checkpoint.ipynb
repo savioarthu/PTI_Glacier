{
 "cells": [
  {
   "cell_type": "code",
   "execution_count": 5,
   "metadata": {},
   "outputs": [],
   "source": [
    "from time import time\n",
    "import cv2\n",
    "import argparse\n",
    "import matplotlib.pyplot as plt\n",
    "import numpy as np\n",
    "import scipy as sp\n",
    "import pdb\n",
    "from sklearn.feature_extraction.image import extract_patches_2d\n",
    "from sklearn.feature_extraction.image import reconstruct_from_patches_2d\n",
    "from sklearn.linear_model import OrthogonalMatchingPursuit\n",
    "from sklearn.datasets import make_sparse_coded_signal\n",
    "from sklearn.decomposition import MiniBatchDictionaryLearning\n",
    "from matplotlib import pyplot as plt\n",
    "from skimage.exposure import rescale_intensity"
   ]
  },
  {
   "cell_type": "code",
   "execution_count": 6,
   "metadata": {},
   "outputs": [],
   "source": [
    "def noisy_patches(image, dict_learning=False, channel=None):\n",
    "    image = image / 255.\n",
    "    if dict_learning:\n",
    "        #downsample for higher speed\n",
    "        image = image[::2, ::2] + image[1::2, ::2] + image[::2, 1::2] + image[1::2, 1::2]\n",
    "        image /= 4.0\n",
    "\n",
    "    print('Distorting image...')\n",
    "    distorted = image.copy()\n",
    "\n",
    "    if channel :\n",
    "        height, width, channel = image.shape\n",
    "        distorted += 0.1 * np.random.randn(height, width, channel)\n",
    "    else:\n",
    "        height, width = image.shape\n",
    "        distorted += 0.075 * np.random.randn(height, width)\n",
    "    print(distorted.shape)\n",
    "\n",
    "    print('Extracting reference patches...')\n",
    "    t0 = time()\n",
    "    patch_size = (7, 7)\n",
    "    data = extract_patches_2d(distorted, patch_size)\n",
    "    data = data.reshape(data.shape[0], -1)\n",
    "    mean = np.mean(data, axis=0)\n",
    "    std = np.std(data, axis=0)\n",
    "    data -= mean\n",
    "    data /= std\n",
    "    print('done in %.2fs.' % (time() - t0))\n",
    "\n",
    "    return (data, mean, std)"
   ]
  },
  {
   "cell_type": "code",
   "execution_count": 7,
   "metadata": {},
   "outputs": [],
   "source": [
    "def ksvd(data):\n",
    "    print('Updating Dictionary')\n",
    "    t0 = time()\n",
    "    dico = MiniBatchDictionaryLearning(n_components=n_comp, \n",
    "                                        alpha=2, \n",
    "                                        n_iter=n_iter,)\n",
    "                                        #dict_init=D)\n",
    "    print('done in %.2fs.' % (time() - t0))\n",
    "    V = dico.fit(data).components_\n",
    "    return V, dico"
   ]
  },
  {
   "cell_type": "code",
   "execution_count": 8,
   "metadata": {},
   "outputs": [],
   "source": [
    "# image name\n",
    "image = '/Photos/2007060208_cam01.jpg'\n"
   ]
  },
  {
   "cell_type": "code",
   "execution_count": 10,
   "metadata": {},
   "outputs": [
    {
     "ename": "AttributeError",
     "evalue": "'NoneType' object has no attribute 'shape'",
     "output_type": "error",
     "traceback": [
      "\u001b[0;31m---------------------------------------------------------------------------\u001b[0m",
      "\u001b[0;31mAttributeError\u001b[0m                            Traceback (most recent call last)",
      "\u001b[0;32m<ipython-input-10-731fe29aa8f6>\u001b[0m in \u001b[0;36m<module>\u001b[0;34m\u001b[0m\n\u001b[1;32m      1\u001b[0m \u001b[0mimage\u001b[0m \u001b[0;34m=\u001b[0m \u001b[0mcv2\u001b[0m\u001b[0;34m.\u001b[0m\u001b[0mimread\u001b[0m\u001b[0;34m(\u001b[0m\u001b[0mimage\u001b[0m\u001b[0;34m)\u001b[0m\u001b[0;34m\u001b[0m\u001b[0;34m\u001b[0m\u001b[0m\n\u001b[1;32m      2\u001b[0m \u001b[0mchannel\u001b[0m \u001b[0;34m=\u001b[0m \u001b[0;32mNone\u001b[0m\u001b[0;34m\u001b[0m\u001b[0;34m\u001b[0m\u001b[0m\n\u001b[0;32m----> 3\u001b[0;31m \u001b[0;32mif\u001b[0m \u001b[0mlen\u001b[0m\u001b[0;34m(\u001b[0m\u001b[0mimage\u001b[0m\u001b[0;34m.\u001b[0m\u001b[0mshape\u001b[0m\u001b[0;34m)\u001b[0m \u001b[0;34m>\u001b[0m\u001b[0;36m2\u001b[0m\u001b[0;34m:\u001b[0m\u001b[0;34m\u001b[0m\u001b[0;34m\u001b[0m\u001b[0m\n\u001b[0m\u001b[1;32m      4\u001b[0m     \u001b[0mchannel\u001b[0m \u001b[0;34m=\u001b[0m \u001b[0mimage\u001b[0m\u001b[0;34m.\u001b[0m\u001b[0mshape\u001b[0m\u001b[0;34m[\u001b[0m\u001b[0;36m2\u001b[0m\u001b[0;34m]\u001b[0m\u001b[0;34m\u001b[0m\u001b[0;34m\u001b[0m\u001b[0m\n\u001b[1;32m      5\u001b[0m \u001b[0mdata\u001b[0m\u001b[0;34m,\u001b[0m \u001b[0m_\u001b[0m\u001b[0;34m,\u001b[0m \u001b[0m_\u001b[0m \u001b[0;34m=\u001b[0m \u001b[0mnoisy_patches\u001b[0m\u001b[0;34m(\u001b[0m\u001b[0mimage\u001b[0m\u001b[0;34m,\u001b[0m \u001b[0mdict_learning\u001b[0m\u001b[0;34m=\u001b[0m\u001b[0;32mTrue\u001b[0m\u001b[0;34m,\u001b[0m \u001b[0mchannel\u001b[0m\u001b[0;34m=\u001b[0m\u001b[0mchannel\u001b[0m\u001b[0;34m)\u001b[0m\u001b[0;34m\u001b[0m\u001b[0;34m\u001b[0m\u001b[0m\n",
      "\u001b[0;31mAttributeError\u001b[0m: 'NoneType' object has no attribute 'shape'"
     ]
    }
   ],
   "source": [
    "image = cv2.imread(image)\n",
    "channel = None\n",
    "if len(image.shape) >2:\n",
    "    channel = image.shape[2]\n",
    "data, _, _ = noisy_patches(image, dict_learning=True, channel=channel)\n",
    "dict_final, dico = ksvd(data)\n",
    "n0_data, mean, std= noisy_patches(image,channel=channel)\n",
    "dico.set_params(transform_algorithm='omp',transform_n_nonzero_coefs = non_zero_coeff )\n",
    "code = dico.transform(n0_data)\n",
    "patches = np.dot(code,dict_final)\n",
    "patches *= std\n",
    "patches += mean\n",
    "patches = (patches.reshape(n0_data.shape[0], 7, 7, channel))\n",
    "print('Reconstructing...')\n",
    "reconstruction = reconstruct_from_patches_2d(patches, (image.shape[0], image.shape[1], channel))\n",
    "reconstruction*=255\n",
    "difference = image - reconstruction\n",
    "error = np.sqrt(np.sum(difference ** 2))\n",
    "print('Difference (norm: %.2f)' %error)\n",
    "print('Finished reconstruction..')\n",
    "cv2.imshow('reconstructed', reconstruction.astype('uint8'))"
   ]
  },
  {
   "cell_type": "code",
   "execution_count": null,
   "metadata": {},
   "outputs": [],
   "source": []
  }
 ],
 "metadata": {
  "kernelspec": {
   "display_name": "Python 3",
   "language": "python",
   "name": "python3"
  },
  "language_info": {
   "codemirror_mode": {
    "name": "ipython",
    "version": 3
   },
   "file_extension": ".py",
   "mimetype": "text/x-python",
   "name": "python",
   "nbconvert_exporter": "python",
   "pygments_lexer": "ipython3",
   "version": "3.7.5"
  }
 },
 "nbformat": 4,
 "nbformat_minor": 2
}
