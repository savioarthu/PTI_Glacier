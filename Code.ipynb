{
 "cells": [
  {
   "cell_type": "code",
   "execution_count": 56,
   "metadata": {},
   "outputs": [],
   "source": [
    "from time import time\n",
    "import cv2\n",
    "import argparse\n",
    "import matplotlib.pyplot as plt\n",
    "import numpy as np\n",
    "import scipy as sp\n",
    "import pdb\n",
    "from sklearn.feature_extraction.image import extract_patches_2d\n",
    "from sklearn.feature_extraction.image import reconstruct_from_patches_2d\n",
    "from sklearn.linear_model import OrthogonalMatchingPursuit\n",
    "from sklearn.datasets import make_sparse_coded_signal\n",
    "from sklearn.decomposition import MiniBatchDictionaryLearning\n",
    "from matplotlib import pyplot as plt\n",
    "from skimage.exposure import rescale_intensity\n",
    "from sklearn.feature_extraction import image"
   ]
  },
  {
   "cell_type": "code",
   "execution_count": 78,
   "metadata": {},
   "outputs": [
    {
     "name": "stdout",
     "output_type": "stream",
     "text": [
      "921600\n"
     ]
    },
    {
     "data": {
      "text/plain": [
       "array([[[ 63,  51, 117],\n",
       "        [ 60,  50, 120],\n",
       "        [ 56,  47, 128],\n",
       "        ...,\n",
       "        [ 14,   4,  80],\n",
       "        [ 14,   5,  78],\n",
       "        [ 14,   5,  78]],\n",
       "\n",
       "       [[ 54,  44, 114],\n",
       "        [ 52,  43, 116],\n",
       "        [ 47,  41, 123],\n",
       "        ...,\n",
       "        [ 14,   4,  80],\n",
       "        [ 14,   5,  78],\n",
       "        [ 14,   5,  78]],\n",
       "\n",
       "       [[ 48,  43, 118],\n",
       "        [ 46,  43, 123],\n",
       "        [ 42,  40, 130],\n",
       "        ...,\n",
       "        [ 14,   4,  80],\n",
       "        [ 14,   4,  80],\n",
       "        [ 14,   4,  80]],\n",
       "\n",
       "       ...,\n",
       "\n",
       "       [[  7,   7,   7],\n",
       "        [  6,   6,   6],\n",
       "        [  6,   6,   6],\n",
       "        ...,\n",
       "        [  0,   0,   0],\n",
       "        [  0,   0,   0],\n",
       "        [  0,   0,   0]],\n",
       "\n",
       "       [[  7,   7,   7],\n",
       "        [  7,   7,   7],\n",
       "        [  6,   6,   6],\n",
       "        ...,\n",
       "        [  0,   0,   0],\n",
       "        [  0,   0,   0],\n",
       "        [  0,   0,   0]],\n",
       "\n",
       "       [[  8,   8,   8],\n",
       "        [  7,   7,   7],\n",
       "        [  7,   7,   7],\n",
       "        ...,\n",
       "        [  0,   0,   0],\n",
       "        [  0,   0,   0],\n",
       "        [  0,   0,   0]]], dtype=uint8)"
      ]
     },
     "execution_count": 78,
     "metadata": {},
     "output_type": "execute_result"
    }
   ],
   "source": [
    "# image name\n",
    "path = './Photos/2007060208_cam01.jpg'\n",
    "path = './Photos/jo.jpg'\n",
    "im = cv2.imread(path)\n",
    "print(im.shape[0]*im.shape[1])\n",
    "\n",
    "#b: longueur du patch\n",
    "b = 32\n",
    "\n",
    "#l: nombre total de patchs\n",
    "l = 1024\n",
    "\n",
    "im\n"
   ]
  },
  {
   "cell_type": "code",
   "execution_count": 79,
   "metadata": {},
   "outputs": [
    {
     "data": {
      "text/plain": [
       "array([[[ 45,  39, 218],\n",
       "        [ 45,  37, 214],\n",
       "        [ 45,  39, 212],\n",
       "        ...,\n",
       "        [ 35,  31, 134],\n",
       "        [ 33,  30, 129],\n",
       "        [ 34,  30, 126]],\n",
       "\n",
       "       [[ 45,  39, 218],\n",
       "        [ 45,  37, 214],\n",
       "        [ 45,  39, 212],\n",
       "        ...,\n",
       "        [ 35,  31, 134],\n",
       "        [ 33,  30, 129],\n",
       "        [ 34,  30, 126]],\n",
       "\n",
       "       [[ 45,  39, 216],\n",
       "        [ 45,  38, 213],\n",
       "        [ 44,  38, 209],\n",
       "        ...,\n",
       "        [ 35,  31, 134],\n",
       "        [ 33,  30, 129],\n",
       "        [ 34,  30, 126]],\n",
       "\n",
       "       ...,\n",
       "\n",
       "       [[ 44,  38, 193],\n",
       "        [ 45,  37, 192],\n",
       "        [ 44,  36, 190],\n",
       "        ...,\n",
       "        [ 41,  35, 116],\n",
       "        [ 40,  35, 114],\n",
       "        [ 40,  35, 110]],\n",
       "\n",
       "       [[ 42,  40, 189],\n",
       "        [ 43,  39, 188],\n",
       "        [ 45,  39, 188],\n",
       "        ...,\n",
       "        [ 41,  36, 115],\n",
       "        [ 40,  36, 112],\n",
       "        [ 40,  36, 108]],\n",
       "\n",
       "       [[ 42,  41, 187],\n",
       "        [ 43,  40, 185],\n",
       "        [ 43,  40, 185],\n",
       "        ...,\n",
       "        [ 41,  36, 115],\n",
       "        [ 40,  36, 111],\n",
       "        [ 40,  36, 108]]], dtype=uint8)"
      ]
     },
     "execution_count": 79,
     "metadata": {},
     "output_type": "execute_result"
    }
   ],
   "source": [
    "patches = image.extract_patches_2d(im, (b, b), l)\n",
    "#patches.shape[0]*patches.shape[1]*patches.shape[2]\n",
    "patches[0]"
   ]
  },
  {
   "cell_type": "code",
   "execution_count": 90,
   "metadata": {},
   "outputs": [],
   "source": [
    "def plot_patches(patches, fignum=None, low=0, high=0):\n",
    "    \"\"\"\n",
    "    Given a stack of 2D patches indexed by the first dimension, plot the\n",
    "    patches in subplots. \n",
    "    'low' and 'high' are optional arguments to control which patches\n",
    "    actually get plotted. 'fignum' chooses the figure to plot in.\n",
    "    \"\"\"\n",
    "    try:\n",
    "        istate = plt.isinteractive()\n",
    "        plt.ioff()\n",
    "        if fignum is None:\n",
    "            fig = plt.gcf()\n",
    "        else:\n",
    "            fig = plt.figure(fignum)\n",
    "        if high == 0:\n",
    "            high = len(patches)\n",
    "        pmin, pmax = patches.min(), patches.max()\n",
    "        dims = np.ceil(np.sqrt(high - low))\n",
    "        for idx in xrange(high - low):\n",
    "            spl = plt.subplot(dims, dims, idx + 1)\n",
    "            #ax = plt.axis('off')\n",
    "            im = plt.imshow(patches[idx])\n",
    "            #cl = plt.clim(pmin, pmax)\n",
    "        plt.show()\n",
    "    finally:\n",
    "        plt.interactive(istate)"
   ]
  },
  {
   "cell_type": "code",
   "execution_count": 91,
   "metadata": {},
   "outputs": [
    {
     "data": {
      "image/png": "[encoded data removed]",
      "text/plain": [
       "<Figure size 432x288 with 15 Axes>"
      ]
     },
     "metadata": {
      "needs_background": "light"
     },
     "output_type": "display_data"
    }
   ],
   "source": [
    "plot_patches(patches[10:25])"
   ]
  },
  {
   "cell_type": "code",
   "execution_count": null,
   "metadata": {},
   "outputs": [],
   "source": []
  },
  {
   "cell_type": "code",
   "execution_count": 21,
   "metadata": {},
   "outputs": [],
   "source": []
  },
  {
   "cell_type": "code",
   "execution_count": null,
   "metadata": {},
   "outputs": [],
   "source": []
  },
  {
   "cell_type": "code",
   "execution_count": null,
   "metadata": {},
   "outputs": [],
   "source": []
  },
  {
   "cell_type": "code",
   "execution_count": null,
   "metadata": {},
   "outputs": [],
   "source": []
  },
  {
   "cell_type": "code",
   "execution_count": null,
   "metadata": {},
   "outputs": [],
   "source": []
  },
  {
   "cell_type": "code",
   "execution_count": null,
   "metadata": {},
   "outputs": [],
   "source": []
  },
  {
   "cell_type": "code",
   "execution_count": null,
   "metadata": {},
   "outputs": [],
   "source": []
  },
  {
   "cell_type": "code",
   "execution_count": null,
   "metadata": {},
   "outputs": [],
   "source": []
  },
  {
   "cell_type": "code",
   "execution_count": null,
   "metadata": {},
   "outputs": [],
   "source": []
  },
  {
   "cell_type": "code",
   "execution_count": null,
   "metadata": {},
   "outputs": [],
   "source": []
  },
  {
   "cell_type": "code",
   "execution_count": null,
   "metadata": {},
   "outputs": [],
   "source": []
  },
  {
   "cell_type": "code",
   "execution_count": null,
   "metadata": {},
   "outputs": [],
   "source": []
  },
  {
   "cell_type": "code",
   "execution_count": null,
   "metadata": {},
   "outputs": [],
   "source": []
  },
  {
   "cell_type": "code",
   "execution_count": null,
   "metadata": {},
   "outputs": [],
   "source": [
    "#Projet guez\n",
    "def noisy_patches(image, dict_learning=False, channel=None):\n",
    "    image = image / 255.\n",
    "    if dict_learning:\n",
    "        #downsample for higher speed\n",
    "        image = image[::2, ::2] + image[1::2, ::2] + image[::2, 1::2] + image[1::2, 1::2]\n",
    "        image /= 4.0\n",
    "\n",
    "    print('Distorting image...')\n",
    "    distorted = image.copy()\n",
    "\n",
    "    if channel :\n",
    "        height, width, channel = image.shape\n",
    "        distorted += 0.1 * np.random.randn(height, width, channel)\n",
    "    else:\n",
    "        height, width = image.shape\n",
    "        distorted += 0.075 * np.random.randn(height, width)\n",
    "    print(distorted.shape)\n",
    "\n",
    "    print('Extracting reference patches...')\n",
    "    t0 = time()\n",
    "    patch_size = (7, 7)\n",
    "    data = extract_patches_2d(distorted, patch_size)\n",
    "    data = data.reshape(data.shape[0], -1)\n",
    "    mean = np.mean(data, axis=0)\n",
    "    std = np.std(data, axis=0)\n",
    "    data -= mean\n",
    "    data /= std\n",
    "    print('done in %.2fs.' % (time() - t0))\n",
    "\n",
    "    return (data, mean, std)\n",
    "\n",
    "def ksvd(data):\n",
    "    print('Updating Dictionary')\n",
    "    t0 = time()\n",
    "    dico = MiniBatchDictionaryLearning(n_components=n_comp, \n",
    "                                        alpha=2, \n",
    "                                        n_iter=n_iter,)\n",
    "                                        #dict_init=D)\n",
    "    print('done in %.2fs.' % (time() - t0))\n",
    "    V = dico.fit(data).components_\n",
    "    return V, dico\n",
    "\n",
    "channel = None\n",
    "if len(image.shape) >2:\n",
    "    channel = image.shape[2]\n",
    "    \n",
    "\n",
    "data, _, _ = noisy_patches(image, dict_learning=True, channel=channel)\n",
    "dict_final, dico = ksvd(data)\n",
    "n0_data, mean, std= noisy_patches(image,channel=channel)\n",
    "dico.set_params(transform_algorithm='omp',transform_n_nonzero_coefs = non_zero_coeff )\n",
    "code = dico.transform(n0_data)\n",
    "patches = np.dot(code,dict_final)\n",
    "patches *= std\n",
    "patches += mean\n",
    "patches = (patches.reshape(n0_data.shape[0], b, b, channel))\n",
    "print('Reconstructing...')\n",
    "reconstruction = reconstruct_from_patches_2d(patches, (image.shape[0], image.shape[1], channel))\n",
    "reconstruction*=255\n",
    "difference = image - reconstruction\n",
    "error = np.sqrt(np.sum(difference ** 2))\n",
    "print('Difference (norm: %.2f)' %error)\n",
    "print('Finished reconstruction..')\n",
    "cv2.imshow('reconstructed', reconstruction.astype('uint8'))\n",
    "    "
   ]
  }
 ],
 "metadata": {
  "kernelspec": {
   "display_name": "Python 2",
   "language": "python",
   "name": "python2"
  },
  "language_info": {
   "codemirror_mode": {
    "name": "ipython",
    "version": 2
   },
   "file_extension": ".py",
   "mimetype": "text/x-python",
   "name": "python",
   "nbconvert_exporter": "python",
   "pygments_lexer": "ipython2",
   "version": "2.7.12"
  }
 },
 "nbformat": 4,
 "nbformat_minor": 2
}
